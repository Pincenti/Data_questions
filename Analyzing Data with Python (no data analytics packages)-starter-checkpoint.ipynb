{
 "cells": [
  {
   "cell_type": "code",
   "execution_count": 1,
   "id": "impaired-montgomery",
   "metadata": {},
   "outputs": [],
   "source": [
    "import unicodecsv as csv"
   ]
  },
  {
   "cell_type": "markdown",
   "id": "unlikely-eugene",
   "metadata": {},
   "source": [
    "# Data Analysis Process"
   ]
  },
  {
   "cell_type": "markdown",
   "id": "unauthorized-demographic",
   "metadata": {},
   "source": [
    "### Step 1: Get data"
   ]
  },
  {
   "cell_type": "markdown",
   "id": "14dc1d98",
   "metadata": {},
   "source": [
    "1a: Find data"
   ]
  },
  {
   "cell_type": "markdown",
   "id": "nutritional-swift",
   "metadata": {},
   "source": [
    "Categorical Data - Any value that if you ran mathematical operation on it, you'd get nonsensical data"
   ]
  },
  {
   "cell_type": "markdown",
   "id": "alternative-stretch",
   "metadata": {},
   "source": [
    "Ordinal Data - Any value that if you ran mathematical operation on it, you'd get sensical data"
   ]
  },
  {
   "cell_type": "markdown",
   "id": "deb45630",
   "metadata": {},
   "source": [
    "1b. Pull in data"
   ]
  },
  {
   "cell_type": "code",
   "execution_count": 2,
   "id": "9eeb5b08",
   "metadata": {},
   "outputs": [
    {
     "name": "stdout",
     "output_type": "stream",
     "text": [
      "{'account_key': '700', 'status': 'canceled', 'join_date': '2017-11-10', 'cancel_date': '2017-11-16', 'days_to_cancel': '6', 'is_enrolled': 'FALSE', 'is_canceled': 'TRUE'}\n",
      "{'acct': '0', 'utc_date': '2018-01-09', 'num_courses_visited': '1', 'total_minutes_visited': '11.6793745', 'lessons_completed': '0', 'projects_completed': '0'}\n",
      "{'creation_date': '2018-01-14', 'completion_date': '2018-01-16', 'assigned_rating': 'UNGRADED', 'account_key': '256', 'lesson_key': '3176718735', 'processing_state': 'EVALUATED'}\n"
     ]
    }
   ],
   "source": [
    "# LONG WAY\n",
    "#enrollment_data = []\n",
    "#file = open('enrollments.csv','rb')\n",
    "\n",
    "#data = csv.DictReader(file)\n",
    "#for i in data:\n",
    "#    enrollment_data.append(i)\n",
    "\n",
    "#file.close()\n",
    "\n",
    "# SHORT WAY\n",
    "# with open('enrollments.csv', 'rb') as file:\n",
    "#     data = csv.DictReader(file)\n",
    "#     enrollment_data = list(data)\n",
    "\n",
    "# BEST WAY\n",
    "def read_from_csv(filename):\n",
    "    with open(filename, 'rb') as file:\n",
    "        data = csv.DictReader(file)\n",
    "        return list(data)\n",
    "\n",
    "enrollment_data = read_from_csv('enrollments.csv')\n",
    "engagement_data = read_from_csv('engagements.csv')\n",
    "submission_data = read_from_csv('submissions.csv')\n",
    "\n",
    "print(enrollment_data[0])\n",
    "print(engagement_data[0])\n",
    "print(submission_data[0])"
   ]
  },
  {
   "cell_type": "markdown",
   "id": "amino-violation",
   "metadata": {},
   "source": [
    "### Step 2: Clean Data"
   ]
  },
  {
   "cell_type": "code",
   "execution_count": 3,
   "id": "04bef654",
   "metadata": {},
   "outputs": [],
   "source": [
    "from datetime import datetime as dt\n",
    "\n",
    "def convert_to_date(date_string):\n",
    "    if date_string == '':\n",
    "        return None\n",
    "    return dt.strptime(date_string, '%Y-%m-%d')\n",
    "\n",
    "def convert_to_int(int_string):\n",
    "    if int_string == '':\n",
    "        return None\n",
    "    return int(int_string)\n",
    "\n",
    "def convert_to_float(float_string):\n",
    "    if float_string == '':\n",
    "        return None\n",
    "    return float(float_string)\n",
    "\n",
    "def convert_to_bool(bool_string):\n",
    "    if bool_string == '':\n",
    "        return None\n",
    "    elif bool_string == 'TRUE':\n",
    "        return True\n",
    "    elif bool_string == 'FALSE':\n",
    "        return False"
   ]
  },
  {
   "cell_type": "code",
   "execution_count": 4,
   "id": "bb86b659",
   "metadata": {},
   "outputs": [
    {
     "data": {
      "text/plain": [
       "{'account_key': '700',\n",
       " 'status': 'canceled',\n",
       " 'join_date': '2017-11-10',\n",
       " 'cancel_date': '2017-11-16',\n",
       " 'days_to_cancel': '6',\n",
       " 'is_enrolled': 'FALSE',\n",
       " 'is_canceled': 'TRUE'}"
      ]
     },
     "execution_count": 4,
     "metadata": {},
     "output_type": "execute_result"
    }
   ],
   "source": [
    "enrollment_data[0]"
   ]
  },
  {
   "cell_type": "code",
   "execution_count": 5,
   "id": "689b1661",
   "metadata": {},
   "outputs": [],
   "source": [
    "for r in enrollment_data:\n",
    "    r['join_date'] = convert_to_date(r['join_date'])\n",
    "    r['cancel_date'] = convert_to_date(r['cancel_date'])\n",
    "    r['days_to_cancel'] = convert_to_int(r['days_to_cancel'])\n",
    "    r['is_enrolled'] = convert_to_bool(r['is_enrolled'])\n",
    "    r['is_canceled'] = convert_to_bool(r['is_canceled'])"
   ]
  },
  {
   "cell_type": "code",
   "execution_count": 6,
   "id": "0c29fa2e",
   "metadata": {},
   "outputs": [
    {
     "data": {
      "text/plain": [
       "{'account_key': '700',\n",
       " 'status': 'canceled',\n",
       " 'join_date': datetime.datetime(2017, 11, 10, 0, 0),\n",
       " 'cancel_date': datetime.datetime(2017, 11, 16, 0, 0),\n",
       " 'days_to_cancel': 6,\n",
       " 'is_enrolled': False,\n",
       " 'is_canceled': True}"
      ]
     },
     "execution_count": 6,
     "metadata": {},
     "output_type": "execute_result"
    }
   ],
   "source": [
    "enrollment_data[0]"
   ]
  },
  {
   "cell_type": "code",
   "execution_count": 7,
   "id": "6309138d",
   "metadata": {
    "scrolled": true
   },
   "outputs": [
    {
     "ename": "NameError",
     "evalue": "name 'engagment_data' is not defined",
     "output_type": "error",
     "traceback": [
      "\u001b[1;31m---------------------------------------------------------------------------\u001b[0m",
      "\u001b[1;31mNameError\u001b[0m                                 Traceback (most recent call last)",
      "\u001b[1;32m<ipython-input-7-fc188a7720c8>\u001b[0m in \u001b[0;36m<module>\u001b[1;34m\u001b[0m\n\u001b[1;32m----> 1\u001b[1;33m \u001b[0mengagment_data\u001b[0m\u001b[1;33m[\u001b[0m\u001b[1;36m0\u001b[0m\u001b[1;33m]\u001b[0m\u001b[1;33m\u001b[0m\u001b[1;33m\u001b[0m\u001b[0m\n\u001b[0m",
      "\u001b[1;31mNameError\u001b[0m: name 'engagment_data' is not defined"
     ]
    }
   ],
   "source": [
    "engagment_data[0]"
   ]
  },
  {
   "cell_type": "code",
   "execution_count": null,
   "id": "f0b8055d",
   "metadata": {},
   "outputs": [],
   "source": [
    "for r in engagment_data:\n",
    "    r['utc_date'] = convert_to_date(r['utc_date'])\n",
    "    r['num_courses_visited'] = convert_to_int(r['num_courses_visited'])\n",
    "    r['total_minutes_visited'] = convert_to_float(r['total_minutes_visited'])\n",
    "    r['lessons_completed'] = convert_to_int(r['lessons_completed'])\n",
    "    r['projects_completed'] = convert_to_int(r['projects_completed'])"
   ]
  },
  {
   "cell_type": "code",
   "execution_count": null,
   "id": "8b180ed1",
   "metadata": {
    "scrolled": true
   },
   "outputs": [],
   "source": [
    "engagment_data[0]"
   ]
  },
  {
   "cell_type": "code",
   "execution_count": null,
   "id": "34943696",
   "metadata": {},
   "outputs": [],
   "source": [
    "submission_data[0]"
   ]
  },
  {
   "cell_type": "code",
   "execution_count": null,
   "id": "8ca2f1b8",
   "metadata": {},
   "outputs": [],
   "source": [
    "for r in submission_data:\n",
    "    r['creation_date'] = convert_to_date(r['creation_date'])\n",
    "    r['completion_date'] = convert_to_date(r['completion_date'])"
   ]
  },
  {
   "cell_type": "code",
   "execution_count": null,
   "id": "ec562df2",
   "metadata": {},
   "outputs": [],
   "source": [
    "submission_data[0]"
   ]
  },
  {
   "cell_type": "code",
   "execution_count": null,
   "id": "065f2453",
   "metadata": {},
   "outputs": [],
   "source": [
    "# Colum name in engagement_data for 'acct' is not consistent with 'account_key' in other datasets. Change it\n",
    "# RUN ONLY ONCE!!!!!!!!!!!!!!!\n",
    "for row in engagment_data:\n",
    "    row['account_key'] = row['acct']\n",
    "    del row['acct']"
   ]
  },
  {
   "cell_type": "code",
   "execution_count": null,
   "id": "8066d126",
   "metadata": {},
   "outputs": [],
   "source": [
    "engagment_data[0]"
   ]
  },
  {
   "cell_type": "markdown",
   "id": "first-mileage",
   "metadata": {},
   "source": [
    "### Step 3: Answer Questions with Data"
   ]
  },
  {
   "cell_type": "code",
   "execution_count": null,
   "id": "5fdfd619",
   "metadata": {},
   "outputs": [],
   "source": [
    "print(f\"Enrollment records: {len(enrollment_data)}\")\n",
    "print(f\"Engagement records: {len(engagment_data)}\")\n",
    "print(f\"Submission records: {len(submission_data)}\")"
   ]
  },
  {
   "cell_type": "code",
   "execution_count": null,
   "id": "c07c0c37",
   "metadata": {},
   "outputs": [],
   "source": [
    "def get_unique_records(dataset, column_name):\n",
    "    unique_data = set()\n",
    "    for i in dataset:\n",
    "        unique_data.add(i[column_name])\n",
    "    return unique_data\n",
    "\n",
    "unique_enrollments = get_unique_records(enrollment_data, 'account_key')\n",
    "unique_engagements = get_unique_records(engagment_data, 'account_key')\n",
    "unique_submissions = get_unique_records(submission_data, 'account_key')"
   ]
  },
  {
   "cell_type": "code",
   "execution_count": null,
   "id": "febcdb5d",
   "metadata": {},
   "outputs": [],
   "source": [
    "# How many unique user records can be found in each dataset?"
   ]
  },
  {
   "cell_type": "code",
   "execution_count": null,
   "id": "3f946d98",
   "metadata": {},
   "outputs": [],
   "source": [
    "print(f\"Unique enrollment records: {len(unique_enrollments)}\")\n",
    "print(f\"Unique engagement records: {len(unique_engagements)}\")\n",
    "print(f\"Unique submission records: {len(unique_submissions)}\")"
   ]
  },
  {
   "cell_type": "code",
   "execution_count": null,
   "id": "bca26aea",
   "metadata": {},
   "outputs": [],
   "source": [
    "outliers = 0\n",
    "for i in enrollment_data:\n",
    "    if i['account_key'] not in unique_engagements and i['join_date'] != i['cancel_date']:\n",
    "        outliers+=1\n",
    "        print(i, end='\\n\\n')"
   ]
  },
  {
   "cell_type": "code",
   "execution_count": null,
   "id": "2eea1019",
   "metadata": {},
   "outputs": [],
   "source": [
    "test_accounts = set()\n",
    "for i in enrollment_data:\n",
    "    if i['is_enrolled']:\n",
    "        test_accounts.add(i['account_key'])\n",
    "print(f\"{len(test_accounts)} possible test accounts found\")"
   ]
  },
  {
   "cell_type": "code",
   "execution_count": null,
   "id": "797472cc",
   "metadata": {
    "scrolled": true
   },
   "outputs": [],
   "source": [
    "# Now that we have access to all of the test accounts, we can remove those records from each dataset \n",
    "# by its account_key\n",
    "\n",
    "def remove_test_accounts(dataset):\n",
    "    records_to_remove = []\n",
    "    for i in dataset:\n",
    "        if i['account_key'] not in test_accounts:\n",
    "            records_to_remove.append(i)\n",
    "    return records_to_remove"
   ]
  },
  {
   "cell_type": "code",
   "execution_count": null,
   "id": "fedc0533",
   "metadata": {},
   "outputs": [],
   "source": [
    "# Removes data associated with test accounts\n",
    "true_enrollments = remove_test_accounts(enrollment_data)\n",
    "true_engagements = remove_test_accounts(engagment_data)\n",
    "true_submissions = remove_test_accounts(submission_data)"
   ]
  },
  {
   "cell_type": "code",
   "execution_count": null,
   "id": "9e87560c",
   "metadata": {},
   "outputs": [],
   "source": [
    "print(f\"Enrollment records: {len(enrollment_data)}\")\n",
    "print(f\"Engagement records: {len(engagment_data)}\")\n",
    "print(f\"Submission records: {len(submission_data)}\")"
   ]
  },
  {
   "cell_type": "code",
   "execution_count": null,
   "id": "b5bfaa1e",
   "metadata": {},
   "outputs": [],
   "source": [
    "print(f\"True enrollment records: {len(true_enrollments)}\")\n",
    "print(f\"True engagement records: {len(true_engagements)}\")\n",
    "print(f\"True submission records: {len(true_submissions)}\")"
   ]
  },
  {
   "cell_type": "markdown",
   "id": "joint-kruger",
   "metadata": {},
   "source": [
    "<h4>Find quality accounts in which:</h4>\n",
    "<ol>\n",
    "    <li>The account is currently active i.e. is_canceled is False</li>\n",
    "    <li>days_to_cancel is greater than 7 i.e. the trial period</li>\n",
    "    <li>The latest vald record for each particular VALID user</li>\n",
    "</ol>"
   ]
  },
  {
   "cell_type": "code",
   "execution_count": null,
   "id": "a4f9ea00",
   "metadata": {},
   "outputs": [],
   "source": [
    "# {\n",
    "#     '332': '2018-10-05', \n",
    "# }"
   ]
  },
  {
   "cell_type": "code",
   "execution_count": null,
   "id": "295b6bf5",
   "metadata": {},
   "outputs": [],
   "source": [
    "accounts_in_good_standing = dict()\n",
    "\n",
    "for i in true_enrollments:\n",
    "    # the account is currently active i.e. is_canceled is False\n",
    "    if i['days_to_cancel'] is not None and i['cancel_date'] is not None:\n",
    "        if not i['is_canceled'] or i['days_to_cancel'] > 7:\n",
    "            # the latest valid record for each particular VALID user\n",
    "            if i['account_key'] not in accounts_in_good_standing or i['join_date'] > accounts_in_good_standing[i['account_key']]:\n",
    "                accounts_in_good_standing[i['account_key']] = i['join_date']"
   ]
  },
  {
   "cell_type": "code",
   "execution_count": null,
   "id": "fb5527d3",
   "metadata": {},
   "outputs": [],
   "source": [
    "accounts_in_good_standing['429']"
   ]
  },
  {
   "cell_type": "code",
   "execution_count": null,
   "id": "7e62b64e",
   "metadata": {},
   "outputs": [],
   "source": [
    "len(accounts_in_good_standing)"
   ]
  },
  {
   "cell_type": "code",
   "execution_count": null,
   "id": "chemical-offering",
   "metadata": {},
   "outputs": [],
   "source": [
    "# How many students were active on the website within the first week?\n",
    "def remove_free_trials(dataset):\n",
    "    free_trials_list = []\n",
    "    for i in dataset:\n",
    "        if i['account_key'] in accounts_in_good_standing:\n",
    "            free_trials_list.append(i)\n",
    "    return free_trials_list\n",
    "\n",
    "quality_enrollments = remove_free_trials(true_enrollments)\n",
    "quality_engagements = remove_free_trials(true_engagements)\n",
    "quality_submissions = remove_free_trials(true_submissions)"
   ]
  },
  {
   "cell_type": "code",
   "execution_count": null,
   "id": "f2efa16c",
   "metadata": {},
   "outputs": [],
   "source": [
    "print(f\"Quality enrollments records: {len(quality_enrollments)}\")\n",
    "print(f\"Quality engagements records: {len(quality_engagements)}\")\n",
    "print(f\"Quality submissions records: {len(quality_submissions)}\")"
   ]
  },
  {
   "cell_type": "code",
   "execution_count": null,
   "id": "b43de81d",
   "metadata": {},
   "outputs": [],
   "source": [
    "# Out of all of the students who lasted past the free trial, \n",
    "# how many of them were also active on the website within the first week?\n",
    "def engagement_within_first_week(date_joined, date_of_first_engagement):\n",
    "    time_difference = date_of_first_engagement - date_joined\n",
    "    if time_difference.days >= 0 and time_difference.days < 8:\n",
    "        return True\n",
    "    \n",
    "for i in quality_engagements:\n",
    "    if i['num_courses_visited'] > 0:\n",
    "        i['has_visited'] = 1\n",
    "    else:\n",
    "        i['has_visited'] = 0\n",
    "        \n",
    "first_week_engagements = list()\n",
    "\n",
    "for i in quality_engagements:\n",
    "    # accounts_in_good_standing['429'] = datetime.datetime(2018, 3, 10, 0, 0)\n",
    "    if engagement_within_first_week(accounts_in_good_standing[i['account_key']], i['utc_date']):\n",
    "        first_week_engagements.append(i)"
   ]
  },
  {
   "cell_type": "code",
   "execution_count": null,
   "id": "30b38293",
   "metadata": {
    "scrolled": true
   },
   "outputs": [],
   "source": [
    "print(f\"{len(first_week_engagements)} engagements within the first week.\")"
   ]
  },
  {
   "cell_type": "code",
   "execution_count": null,
   "id": "de5c8098",
   "metadata": {
    "scrolled": true
   },
   "outputs": [],
   "source": [
    "first_week_engagements[0]"
   ]
  },
  {
   "cell_type": "code",
   "execution_count": null,
   "id": "eb4191c8",
   "metadata": {},
   "outputs": [],
   "source": [
    "# help(defaultdict)"
   ]
  },
  {
   "cell_type": "code",
   "execution_count": null,
   "id": "amended-momentum",
   "metadata": {},
   "outputs": [],
   "source": [
    "# How many minutes did each students spend online in the first week?\n",
    "from collections import defaultdict\n",
    "\n",
    "def compare(dataset, a_key):\n",
    "    new_data = defaultdict(list)\n",
    "    for i in dataset:\n",
    "        account_key = i[a_key]\n",
    "        new_data[account_key].append(i)\n",
    "    return new_data\n",
    "\n",
    "engagements_grouped_by_account = compare(first_week_engagements, 'account_key')\n",
    "\n",
    "# engagements_grouped_by_account['5']"
   ]
  },
  {
   "cell_type": "code",
   "execution_count": null,
   "id": "d3c4246d",
   "metadata": {},
   "outputs": [],
   "source": [
    "# {\n",
    "#     '429': 886\n",
    "# }"
   ]
  },
  {
   "cell_type": "code",
   "execution_count": null,
   "id": "093d5bd7",
   "metadata": {},
   "outputs": [],
   "source": [
    "def sum_records(dataset, column):\n",
    "    # dataset = engagements_grouped_by_account\n",
    "    new_data = dict()\n",
    "    for k, v in dataset.items():\n",
    "        # k = engagements_grouped_by_account['5']\n",
    "        # v = engagements_grouped_by_account['5'][{...}, {...}, {...}, ...]\n",
    "        sum_ = 0\n",
    "        for record in v:\n",
    "            sum_+=record[column]\n",
    "        new_data[k] = sum_\n",
    "    return new_data\n",
    "\n",
    "minutes_per_accounts = sum_records(engagements_grouped_by_account, 'total_minutes_visited')\n",
    "minutes_per_accounts"
   ]
  },
  {
   "cell_type": "code",
   "execution_count": null,
   "id": "0e56ac46",
   "metadata": {},
   "outputs": [],
   "source": [
    "engagements_grouped_by_account['3'][0]"
   ]
  },
  {
   "cell_type": "code",
   "execution_count": null,
   "id": "b6739e3d",
   "metadata": {
    "scrolled": true
   },
   "outputs": [],
   "source": [
    "most_minutes_spent = sorted(minutes_per_accounts.values(), reverse=True)[0]"
   ]
  },
  {
   "cell_type": "code",
   "execution_count": null,
   "id": "078c2f91",
   "metadata": {},
   "outputs": [],
   "source": [
    "for k, v in minutes_per_accounts.items():\n",
    "    if v == most_minutes_spent:\n",
    "        print(engagements_grouped_by_account[k])\n",
    "        break"
   ]
  },
  {
   "cell_type": "code",
   "execution_count": null,
   "id": "conservative-sperm",
   "metadata": {},
   "outputs": [],
   "source": [
    "# HOMEWORK:\n",
    "\n",
    "#Question #1 What day was it when the first person signed up?\n",
    "#Question #2 Which users signed up during halloween?\n",
    "#Question #3 Which users are upgraded?\n",
    "\n",
    "# Take a look at data and come up with 3 good questions and use some of the methods done in this \n",
    "# Jupyter Notebook to successfully answer the questions."
   ]
  },
  {
   "cell_type": "code",
   "execution_count": 12,
   "id": "85dfc650",
   "metadata": {},
   "outputs": [
    {
     "name": "stdout",
     "output_type": "stream",
     "text": [
      "The first signup date was: 2017-11-05 00:00:00\n"
     ]
    }
   ],
   "source": [
    "#Question 1\n",
    "\n",
    "def first_person(dataset, column_name):\n",
    "    current_first_person = \"\"\n",
    "    for row in dataset:\n",
    "        if current_first_person == \"\":\n",
    "            current_first_person = row['join_date']\n",
    "        if row['join_date'] < current_first_person:\n",
    "            current_first_person = row['join_date']\n",
    "    return current_first_person\n",
    "first_person = first_person(enrollment_data, 'join_date')\n",
    "print(f\"The first signup date was: {(first_person)}\")"
   ]
  },
  {
   "cell_type": "code",
   "execution_count": 15,
   "id": "13ef7c99",
   "metadata": {},
   "outputs": [
    {
     "ename": "SyntaxError",
     "evalue": "invalid syntax (<ipython-input-15-7358ac696554>, line 8)",
     "output_type": "error",
     "traceback": [
      "\u001b[1;36m  File \u001b[1;32m\"<ipython-input-15-7358ac696554>\"\u001b[1;36m, line \u001b[1;32m8\u001b[0m\n\u001b[1;33m    if row['join_date'] == %Y-5-31:\u001b[0m\n\u001b[1;37m                           ^\u001b[0m\n\u001b[1;31mSyntaxError\u001b[0m\u001b[1;31m:\u001b[0m invalid syntax\n"
     ]
    }
   ],
   "source": [
    "#Question 2\n",
    "\n",
    "import datetime\n",
    "\n",
    "def memorial_day(dataset, column_name):\n",
    "    current_person = \"\"\n",
    "    for row in dataset:\n",
    "        if current_person == \"\":\n",
    "            current_person = row['join_date']\n",
    "        if row['join_date'] == %Y-05-31:\n",
    "            current_person = row['join_date']\n",
    "        return current_person\n",
    "memorial_day = memorial_day(enrollment_data, 'join_date')"
   ]
  },
  {
   "cell_type": "code",
   "execution_count": 30,
   "id": "752f0829",
   "metadata": {},
   "outputs": [
    {
     "ename": "TypeError",
     "evalue": "'str' object is not callable",
     "output_type": "error",
     "traceback": [
      "\u001b[1;31m---------------------------------------------------------------------------\u001b[0m",
      "\u001b[1;31mTypeError\u001b[0m                                 Traceback (most recent call last)",
      "\u001b[1;32m<ipython-input-30-48a9b62fb366>\u001b[0m in \u001b[0;36m<module>\u001b[1;34m\u001b[0m\n\u001b[0;32m      8\u001b[0m     \u001b[1;32mreturn\u001b[0m \u001b[0mvip\u001b[0m\u001b[1;33m\u001b[0m\u001b[1;33m\u001b[0m\u001b[0m\n\u001b[0;32m      9\u001b[0m \u001b[1;33m\u001b[0m\u001b[0m\n\u001b[1;32m---> 10\u001b[1;33m \u001b[0mungraded\u001b[0m \u001b[1;33m=\u001b[0m \u001b[0mungraded\u001b[0m\u001b[1;33m(\u001b[0m\u001b[0msubmission_data\u001b[0m\u001b[1;33m,\u001b[0m \u001b[1;34m'assigned_rating'\u001b[0m\u001b[1;33m)\u001b[0m\u001b[1;33m\u001b[0m\u001b[1;33m\u001b[0m\u001b[0m\n\u001b[0m",
      "\u001b[1;32m<ipython-input-30-48a9b62fb366>\u001b[0m in \u001b[0;36mungraded\u001b[1;34m(dataset, column_name)\u001b[0m\n\u001b[0;32m      4\u001b[0m     \u001b[0mvip\u001b[0m \u001b[1;33m=\u001b[0m \u001b[1;34m\"\"\u001b[0m\u001b[1;33m\u001b[0m\u001b[1;33m\u001b[0m\u001b[0m\n\u001b[0;32m      5\u001b[0m     \u001b[1;32mfor\u001b[0m \u001b[0mrow\u001b[0m \u001b[1;32min\u001b[0m \u001b[0mdataset\u001b[0m\u001b[1;33m:\u001b[0m\u001b[1;33m\u001b[0m\u001b[1;33m\u001b[0m\u001b[0m\n\u001b[1;32m----> 6\u001b[1;33m         \u001b[1;32mif\u001b[0m \u001b[0mvip\u001b[0m \u001b[1;33m==\u001b[0m \u001b[0mrow\u001b[0m\u001b[1;33m[\u001b[0m\u001b[1;34m'assigned_rating'\u001b[0m\u001b[1;33m]\u001b[0m\u001b[1;33m(\u001b[0m\u001b[1;34m'UNGRADED'\u001b[0m\u001b[1;33m)\u001b[0m\u001b[1;33m:\u001b[0m\u001b[1;33m\u001b[0m\u001b[1;33m\u001b[0m\u001b[0m\n\u001b[0m\u001b[0;32m      7\u001b[0m             \u001b[0mvip\u001b[0m \u001b[1;33m=\u001b[0m \u001b[0mrow\u001b[0m\u001b[1;33m[\u001b[0m\u001b[1;34m'assigned_rating'\u001b[0m\u001b[1;33m]\u001b[0m\u001b[1;33m(\u001b[0m\u001b[1;34m'UNGRADED'\u001b[0m\u001b[1;33m)\u001b[0m\u001b[1;33m\u001b[0m\u001b[1;33m\u001b[0m\u001b[0m\n\u001b[0;32m      8\u001b[0m     \u001b[1;32mreturn\u001b[0m \u001b[0mvip\u001b[0m\u001b[1;33m\u001b[0m\u001b[1;33m\u001b[0m\u001b[0m\n",
      "\u001b[1;31mTypeError\u001b[0m: 'str' object is not callable"
     ]
    }
   ],
   "source": [
    "#Question 3\n",
    "\n",
    "def ungraded(dataset, column_name):\n",
    "    vip = \"\"\n",
    "    for row in dataset:\n",
    "        if vip == row['assigned_rating']('UNGRADED'):\n",
    "            vip = row['assigned_rating']('UNGRADED')\n",
    "    return vip\n",
    "\n",
    "ungraded = ungraded(submission_data, 'assigned_rating')"
   ]
  },
  {
   "cell_type": "code",
   "execution_count": 26,
   "id": "85177867",
   "metadata": {},
   "outputs": [
    {
     "data": {
      "text/plain": [
       "'UNGRADED'"
      ]
     },
     "execution_count": 26,
     "metadata": {},
     "output_type": "execute_result"
    }
   ],
   "source": [
    "submission_data[0]['assigned_rating']"
   ]
  },
  {
   "cell_type": "code",
   "execution_count": 18,
   "id": "05ce2a50",
   "metadata": {},
   "outputs": [
    {
     "ename": "NameError",
     "evalue": "name 'row' is not defined",
     "output_type": "error",
     "traceback": [
      "\u001b[1;31m---------------------------------------------------------------------------\u001b[0m",
      "\u001b[1;31mNameError\u001b[0m                                 Traceback (most recent call last)",
      "\u001b[1;32m<ipython-input-18-6d166724cca1>\u001b[0m in \u001b[0;36m<module>\u001b[1;34m\u001b[0m\n\u001b[1;32m----> 1\u001b[1;33m \u001b[0mrow\u001b[0m\u001b[1;33m[\u001b[0m\u001b[1;34m'assigned_rating'\u001b[0m\u001b[1;33m]\u001b[0m\u001b[1;33m\u001b[0m\u001b[1;33m\u001b[0m\u001b[0m\n\u001b[0m",
      "\u001b[1;31mNameError\u001b[0m: name 'row' is not defined"
     ]
    }
   ],
   "source": []
  },
  {
   "cell_type": "code",
   "execution_count": null,
   "id": "a3edd3c5",
   "metadata": {},
   "outputs": [],
   "source": []
  }
 ],
 "metadata": {
  "kernelspec": {
   "display_name": "Python 3",
   "language": "python",
   "name": "python3"
  },
  "language_info": {
   "codemirror_mode": {
    "name": "ipython",
    "version": 3
   },
   "file_extension": ".py",
   "mimetype": "text/x-python",
   "name": "python",
   "nbconvert_exporter": "python",
   "pygments_lexer": "ipython3",
   "version": "3.9.2"
  }
 },
 "nbformat": 4,
 "nbformat_minor": 5
}
