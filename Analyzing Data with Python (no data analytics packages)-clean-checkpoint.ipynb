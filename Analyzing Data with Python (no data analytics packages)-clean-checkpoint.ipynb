{
 "cells": [
  {
   "cell_type": "code",
   "execution_count": 6,
   "id": "impaired-montgomery",
   "metadata": {},
   "outputs": [],
   "source": [
    "import unicodecsv as csv"
   ]
  },
  {
   "cell_type": "markdown",
   "id": "unlikely-eugene",
   "metadata": {},
   "source": [
    "# Data Analysis Process"
   ]
  },
  {
   "cell_type": "markdown",
   "id": "unauthorized-demographic",
   "metadata": {},
   "source": [
    "### Step 1: Get data"
   ]
  },
  {
   "cell_type": "markdown",
   "id": "nutritional-swift",
   "metadata": {},
   "source": [
    "Categorical Data - Any value that if you ran mathematical operation on it, you'd get nonsensical data"
   ]
  },
  {
   "cell_type": "markdown",
   "id": "alternative-stretch",
   "metadata": {},
   "source": [
    "Ordinal Data - Any value that if you ran mathematical operation on it, you'd get sensical data"
   ]
  },
  {
   "cell_type": "code",
   "execution_count": 7,
   "id": "9eeb5b08",
   "metadata": {},
   "outputs": [
    {
     "ename": "FileNotFoundError",
     "evalue": "[Errno 2] No such file or directory: 'enrollments.csv'",
     "output_type": "error",
     "traceback": [
      "\u001b[1;31m---------------------------------------------------------------------------\u001b[0m",
      "\u001b[1;31mFileNotFoundError\u001b[0m                         Traceback (most recent call last)",
      "\u001b[1;32m<ipython-input-7-e01dd3ad6331>\u001b[0m in \u001b[0;36m<module>\u001b[1;34m\u001b[0m\n\u001b[0;32m     18\u001b[0m         \u001b[1;32mreturn\u001b[0m \u001b[0mlist\u001b[0m\u001b[1;33m(\u001b[0m\u001b[0mdata\u001b[0m\u001b[1;33m)\u001b[0m\u001b[1;33m\u001b[0m\u001b[1;33m\u001b[0m\u001b[0m\n\u001b[0;32m     19\u001b[0m \u001b[1;33m\u001b[0m\u001b[0m\n\u001b[1;32m---> 20\u001b[1;33m \u001b[0menrollment_data\u001b[0m \u001b[1;33m=\u001b[0m \u001b[0mread_from_csv\u001b[0m\u001b[1;33m(\u001b[0m\u001b[1;34m'enrollments.csv'\u001b[0m\u001b[1;33m)\u001b[0m\u001b[1;33m\u001b[0m\u001b[1;33m\u001b[0m\u001b[0m\n\u001b[0m\u001b[0;32m     21\u001b[0m \u001b[0mengagments_data\u001b[0m \u001b[1;33m=\u001b[0m \u001b[0mread_from_csv\u001b[0m\u001b[1;33m(\u001b[0m\u001b[1;34m'engagments.csv'\u001b[0m\u001b[1;33m)\u001b[0m\u001b[1;33m\u001b[0m\u001b[1;33m\u001b[0m\u001b[0m\n\u001b[0;32m     22\u001b[0m \u001b[0msubmission_data\u001b[0m \u001b[1;33m=\u001b[0m \u001b[0mread_from_csv\u001b[0m\u001b[1;33m(\u001b[0m\u001b[1;34m'submissions.csv'\u001b[0m\u001b[1;33m)\u001b[0m\u001b[1;33m\u001b[0m\u001b[1;33m\u001b[0m\u001b[0m\n",
      "\u001b[1;32m<ipython-input-7-e01dd3ad6331>\u001b[0m in \u001b[0;36mread_from_csv\u001b[1;34m(filename)\u001b[0m\n\u001b[0;32m     14\u001b[0m \u001b[1;31m# BEST WAY\u001b[0m\u001b[1;33m\u001b[0m\u001b[1;33m\u001b[0m\u001b[1;33m\u001b[0m\u001b[0m\n\u001b[0;32m     15\u001b[0m \u001b[1;32mdef\u001b[0m \u001b[0mread_from_csv\u001b[0m\u001b[1;33m(\u001b[0m\u001b[0mfilename\u001b[0m\u001b[1;33m)\u001b[0m\u001b[1;33m:\u001b[0m\u001b[1;33m\u001b[0m\u001b[1;33m\u001b[0m\u001b[0m\n\u001b[1;32m---> 16\u001b[1;33m     \u001b[1;32mwith\u001b[0m \u001b[0mopen\u001b[0m\u001b[1;33m(\u001b[0m\u001b[0mfilename\u001b[0m\u001b[1;33m,\u001b[0m \u001b[1;34m'rb'\u001b[0m\u001b[1;33m)\u001b[0m \u001b[1;32mas\u001b[0m \u001b[0mfile\u001b[0m\u001b[1;33m:\u001b[0m\u001b[1;33m\u001b[0m\u001b[1;33m\u001b[0m\u001b[0m\n\u001b[0m\u001b[0;32m     17\u001b[0m         \u001b[0mdata\u001b[0m \u001b[1;33m=\u001b[0m \u001b[0mcsv\u001b[0m\u001b[1;33m.\u001b[0m\u001b[0mDictReader\u001b[0m\u001b[1;33m(\u001b[0m\u001b[0mfile\u001b[0m\u001b[1;33m)\u001b[0m\u001b[1;33m\u001b[0m\u001b[1;33m\u001b[0m\u001b[0m\n\u001b[0;32m     18\u001b[0m         \u001b[1;32mreturn\u001b[0m \u001b[0mlist\u001b[0m\u001b[1;33m(\u001b[0m\u001b[0mdata\u001b[0m\u001b[1;33m)\u001b[0m\u001b[1;33m\u001b[0m\u001b[1;33m\u001b[0m\u001b[0m\n",
      "\u001b[1;31mFileNotFoundError\u001b[0m: [Errno 2] No such file or directory: 'enrollments.csv'"
     ]
    }
   ],
   "source": [
    "# LONG WAY\n",
    "#enrollment_data = []\n",
    "#file = open('enrollments-enrollments', 'rb')\n",
    "#print(file)\n",
    "\n",
    "#file.close()\n",
    "\n",
    "#SHORT WAY\n",
    "#enrollment_data = []\n",
    "\n",
    "#with open('enrollments.csv', 'rb') as file:\n",
    "#    data = csv.DictReader(file)\n",
    "#    enrollment_data = list(data)\n",
    "# BEST WAY\n",
    "def read_from_csv(filename):\n",
    "    with open(filename, 'rb') as file:\n",
    "        data = csv.DictReader(file)\n",
    "        return list(data)\n",
    "\n",
    "enrollment_data = read_from_csv('enrollments.csv')\n",
    "engagments_data = read_from_csv('engagments.csv')\n",
    "submission_data = read_from_csv('submissions.csv')\n",
    "\n",
    "print(enrollment_data[0])\n",
    "print(engagment_data[0])\n",
    "print(submission_data[0])"
   ]
  },
  {
   "cell_type": "markdown",
   "id": "amino-violation",
   "metadata": {},
   "source": [
    "### Step 2: Clean Data"
   ]
  },
  {
   "cell_type": "code",
   "execution_count": null,
   "id": "04bef654",
   "metadata": {},
   "outputs": [],
   "source": [
    "from datetime import datetime as dt\n",
    "\n",
    "def convert_to_date(data_string):\n",
    "    if data_string == '':\n",
    "        return none\n",
    "    return dt.strptime(data_string, '%Y-%m-%d')\n",
    "\n",
    "def convert_to_int(int_string):\n",
    "    if int_string == '':\n",
    "        return None\n",
    "    return int(int_string)\n",
    "\n",
    "def convert_to_float(float_string):\n",
    "    if float_string == '':\n",
    "        return None\n",
    "    return float(float_string)\n",
    "\n",
    "def convert_to_bool(bool_string):\n",
    "    if bool_string == '':\n",
    "        return None\n",
    "    elif bool_string == 'TRUE':\n",
    "        return True\n",
    "    elif bool_string == 'False':\n",
    "        return False\n"
   ]
  },
  {
   "cell_type": "code",
   "execution_count": 8,
   "id": "7d261e7f",
   "metadata": {},
   "outputs": [],
   "source": [
    "for r in enrollment_data:\n",
    "    r['join_date'] = convert_to_date(r['join_date'])\n",
    "    r['cancel_date'] = convert_to_date(r['cancel_date'])\n",
    "    r['days_to_cancel'] = convert_to_int(r['days_to_cancel'])\n",
    "    r['is_enrolled'] = convert_to_bool(r['is_enrolled'])\n",
    "    r['is_canceled'] = convert_to_bool(r['is_canceled'])"
   ]
  },
  {
   "cell_type": "code",
   "execution_count": null,
   "id": "e89bb761",
   "metadata": {},
   "outputs": [],
   "source": [
    "enrollment_data[0]"
   ]
  },
  {
   "cell_type": "code",
   "execution_count": null,
   "id": "f0b8055d",
   "metadata": {},
   "outputs": [],
   "source": [
    "for r in engagment_data:\n",
    "    r['utc-date'] = convert_to_date(r['join_date'])\n",
    "    r['num_courses_visted'] = convert_to_date(r['join_date'])\n",
    "    r['total_minutes_visited'] = convert_to_date(r['join_date'])\n",
    "    r['lessons_completed'] = convert_to_date(r['join_date'])\n",
    "    r['projects_completed'] = convert_to_date(r['join_date'])"
   ]
  },
  {
   "cell_type": "markdown",
   "id": "first-mileage",
   "metadata": {},
   "source": [
    "### Step 3: Answer Questions with Data"
   ]
  },
  {
   "cell_type": "code",
   "execution_count": null,
   "id": "b3bc01da",
   "metadata": {},
   "outputs": [],
   "source": [
    "print(f\"Enrollment records: {len(renrollment_data)}\")\n",
    "print(f\"Engagment records: {len(Engagment_data)}\")\n",
    "print(f\"Submission records: {len(submission_data)}\") dsdasa"
   ]
  },
  {
   "cell_type": "markdown",
   "id": "joint-kruger",
   "metadata": {},
   "source": [
    "<h4>Find quality accounts in which:</h4>\n",
    "<ol>\n",
    "    <li>The account is currently active i.e. is_canceled is False</li>\n",
    "    <li>days_to_cancel is greater than 7 i.e. the trial period</li>\n",
    "    <li>The latest vald record for each particular VALID user</li>\n",
    "</ol>"
   ]
  },
  {
   "cell_type": "code",
   "execution_count": null,
   "id": "bca26aea",
   "metadata": {},
   "outputs": [],
   "source": []
  },
  {
   "cell_type": "code",
   "execution_count": 32,
   "id": "chemical-offering",
   "metadata": {},
   "outputs": [],
   "source": [
    "# How many students were active on the website within the first week?\n"
   ]
  },
  {
   "cell_type": "code",
   "execution_count": 36,
   "id": "amended-momentum",
   "metadata": {},
   "outputs": [],
   "source": [
    "# How many minutes did each students spend online in the first week?\n"
   ]
  },
  {
   "cell_type": "code",
   "execution_count": null,
   "id": "conservative-sperm",
   "metadata": {},
   "outputs": [],
   "source": [
    "# HOMEWORK:\n",
    "\n",
    "# Take a look at data and come up with 3 good questions and use some of the methods done in this \n",
    "# Jupyter Notebook to successfully answer the questions."
   ]
  }
 ],
 "metadata": {
  "kernelspec": {
   "display_name": "Python 3",
   "language": "python",
   "name": "python3"
  },
  "language_info": {
   "codemirror_mode": {
    "name": "ipython",
    "version": 3
   },
   "file_extension": ".py",
   "mimetype": "text/x-python",
   "name": "python",
   "nbconvert_exporter": "python",
   "pygments_lexer": "ipython3",
   "version": "3.9.2"
  }
 },
 "nbformat": 4,
 "nbformat_minor": 5
}
